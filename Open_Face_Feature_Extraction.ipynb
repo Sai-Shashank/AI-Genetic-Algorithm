{
  "nbformat": 4,
  "nbformat_minor": 0,
  "metadata": {
    "colab": {
      "name": "Open Face Feature Extraction.ipynb",
      "provenance": [],
      "collapsed_sections": [],
      "toc_visible": true,
      "include_colab_link": true
    },
    "kernelspec": {
      "name": "python3",
      "display_name": "Python 3"
    },
    "accelerator": "GPU"
  },
  "cells": [
    {
      "cell_type": "markdown",
      "metadata": {
        "id": "view-in-github",
        "colab_type": "text"
      },
      "source": [
        "<a href=\"https://colab.research.google.com/github/Sai-Shashank/AI-Genetic-Algorithm/blob/main/Open_Face_Feature_Extraction.ipynb\" target=\"_parent\"><img src=\"https://colab.research.google.com/assets/colab-badge.svg\" alt=\"Open In Colab\"/></a>"
      ]
    },
    {
      "cell_type": "markdown",
      "metadata": {
        "id": "d62jlr2-BHN6"
      },
      "source": [
        "# Prepare the training and testing dataset"
      ]
    },
    {
      "cell_type": "code",
      "metadata": {
        "id": "dKxQorkLht5v",
        "outputId": "1ede1292-748e-43cb-ca07-1df2aa027e1b",
        "colab": {
          "resources": {
            "http://localhost:8080/nbextensions/google.colab/files.js": {
              "data": "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",
              "ok": true,
              "headers": [
                [
                  "content-type",
                  "application/javascript"
                ]
              ],
              "status": 200,
              "status_text": ""
            }
          },
          "base_uri": "https://localhost:8080/",
          "height": 106
        }
      },
      "source": [
        "from google.colab import files\n",
        "uploaded= files.upload()\n"
      ],
      "execution_count": null,
      "outputs": [
        {
          "output_type": "display_data",
          "data": {
            "text/html": [
              "\n",
              "     <input type=\"file\" id=\"files-e838be46-e98c-455c-bf39-5216cc16bfe2\" name=\"files[]\" multiple disabled\n",
              "        style=\"border:none\" />\n",
              "     <output id=\"result-e838be46-e98c-455c-bf39-5216cc16bfe2\">\n",
              "      Upload widget is only available when the cell has been executed in the\n",
              "      current browser session. Please rerun this cell to enable.\n",
              "      </output>\n",
              "      <script src=\"/nbextensions/google.colab/files.js\"></script> "
            ],
            "text/plain": [
              "<IPython.core.display.HTML object>"
            ]
          },
          "metadata": {
            "tags": []
          }
        },
        {
          "output_type": "stream",
          "text": [
            "Saving final-labels.csv to final-labels.csv\n",
            "Saving reps-final.csv to reps-final.csv\n"
          ],
          "name": "stdout"
        }
      ]
    },
    {
      "cell_type": "code",
      "metadata": {
        "id": "_uBrzjbUp6ZF",
        "outputId": "294482af-f91f-4cf0-f189-6d539fe84e5e",
        "colab": {
          "base_uri": "https://localhost:8080/"
        }
      },
      "source": [
        "import pandas as pd\n",
        "import numpy as np\n",
        "from sklearn.preprocessing import LabelEncoder\n",
        "from sklearn.model_selection import train_test_split\n",
        "\n",
        "rep_data = pd.read_csv('reps-final.csv', sep=',', header=0)\n",
        "label_data = pd.read_csv('final-labels.csv', sep=',', header=0)\n",
        "\n",
        "\n",
        "\n",
        "df = pd.DataFrame(rep_data.to_numpy(), columns=[i for i in range(0,len(rep_data.to_numpy()[0]))])\n",
        "\n",
        "le = LabelEncoder()\n",
        "label = le.fit_transform(label_data)\n",
        "\n",
        "\n",
        "X_train, X_test, y_train, y_test = train_test_split(df, \n",
        "                                                    label, test_size=0.20, \n",
        "                                                    random_state=101)\n",
        "\n"
      ],
      "execution_count": null,
      "outputs": [
        {
          "output_type": "stream",
          "text": [
            "/usr/local/lib/python3.6/dist-packages/sklearn/preprocessing/_label.py:251: DataConversionWarning: A column-vector y was passed when a 1d array was expected. Please change the shape of y to (n_samples, ), for example using ravel().\n",
            "  y = column_or_1d(y, warn=True)\n"
          ],
          "name": "stderr"
        }
      ]
    },
    {
      "cell_type": "markdown",
      "metadata": {
        "id": "9hkpKniDL01p"
      },
      "source": [
        "# Train using all the features (Random Forest Classifier)"
      ]
    },
    {
      "cell_type": "code",
      "metadata": {
        "id": "SjVVadchp9pe",
        "outputId": "fa8f3a92-d382-429b-ab8c-b7d9281afc76",
        "colab": {
          "base_uri": "https://localhost:8080/"
        }
      },
      "source": [
        "from sklearn.ensemble import RandomForestClassifier\n",
        "\n",
        "classifier = RandomForestClassifier(n_estimators=20,random_state=101)\n",
        "classifier.fit(X_train,y_train.ravel())\n",
        "y_pred = classifier.predict(X_test)\n",
        "\n",
        "from sklearn.metrics import accuracy_score\n",
        "print(accuracy_score(y_test.ravel(),y_pred))"
      ],
      "execution_count": null,
      "outputs": [
        {
          "output_type": "stream",
          "text": [
            "0.9521276595744681\n"
          ],
          "name": "stdout"
        }
      ]
    },
    {
      "cell_type": "markdown",
      "metadata": {
        "id": "J_FWycDzBO6Q"
      },
      "source": [
        "# Defining various Genetic Algorithm Operators"
      ]
    },
    {
      "cell_type": "markdown",
      "metadata": {
        "id": "0efdI-T24go7"
      },
      "source": [
        "Selection Operators :\n"
      ]
    },
    {
      "cell_type": "code",
      "metadata": {
        "id": "xqAR3Cxs4lY5"
      },
      "source": [
        "def roulette_selection(pop_after_fit,n_parents,scores):\n",
        "    total_fitness_sum = np.sum(scores)\n",
        "    probability_of_selection = []\n",
        "    population_after_selection = []\n",
        "    length = len(scores)\n",
        "    for i in range(0,length):\n",
        "      probability = scores[i]/total_fitness_sum\n",
        "      probability_of_selection.append(probability)\n",
        "    pop_indices=[]\n",
        "    for i in range(0,length):\n",
        "      pop_indices.append(i)\n",
        "    from numpy.random import choice\n",
        "    pop_indices = choice(pop_indices,length,probability_of_selection)\n",
        "    for i in range(0,length):\n",
        "      population_after_selection.append(pop_after_fit[pop_indices[i]])\n",
        "    return population_after_selection  \n",
        "\n",
        "def tournament_selection(pop_after_fit, n_parents,scores):\n",
        "    pop_after_selection = list()\n",
        "    pop_after_fit_numpy = np.array(pop_after_fit)\n",
        "    scores_numpy = np.array(scores)\n",
        "    for i in range(int(n_parents)):\n",
        "      rand_ints = random.sample(range(0,n_parents),16)\n",
        "      init_pop = pop_after_fit_numpy[rand_ints]\n",
        "      init_score = scores_numpy[rand_ints]\n",
        "      max_score_ind = np.argmax(init_score)\n",
        "      pop_after_selection.append(pop_after_fit_numpy[max_score_ind])\n",
        "            \n",
        "    return pop_after_selection\n",
        "\n",
        "\n",
        "def rank_based_selection(pop_after_fit, n_parents):\n",
        "    probability_of_selection = []\n",
        "    length = len(pop_after_fit)\n",
        "    population_after_selection = []\n",
        "    dec = 1/length\n",
        "    curr_val = 1\n",
        "    for i in range(0, length):\n",
        "      probability_of_selection.append(curr_val)\n",
        "      curr_val -= dec\n",
        "    pop_indices=[]\n",
        "    for i in range(0,length):\n",
        "      pop_indices.append(i)\n",
        "    from numpy.random import choice\n",
        "    pop_indices = choice(pop_indices,length,probability_of_selection)\n",
        "    for i in range(0,length):\n",
        "      population_after_selection.append(pop_after_fit[pop_indices[i]])\n",
        "    return population_after_selection\n",
        "    \n",
        "    \n",
        "\n"
      ],
      "execution_count": null,
      "outputs": []
    },
    {
      "cell_type": "markdown",
      "metadata": {
        "id": "hoWia17i5HoN"
      },
      "source": [
        "Crossover Operators:"
      ]
    },
    {
      "cell_type": "code",
      "metadata": {
        "id": "Z5-TQEwm5N_e"
      },
      "source": [
        "def single_point_crossover(pop_after_sel):\n",
        "  population_nextgen=pop_after_sel\n",
        "  b = random.randint(1,710)\n",
        "  for i in range(len(pop_after_sel)):\n",
        "    parent1 = pop_after_sel[i]\n",
        "    parent2 = pop_after_sel[(i+1)%len(pop_after_sel)]\n",
        "    first_child_genes1 = parent1[0:b]\n",
        "    first_child_genes2 = parent2[b:]      \n",
        "    first_child = []\n",
        "    for x in first_child_genes1:\n",
        "      first_child.append(x)\n",
        "    for x in first_child_genes2:\n",
        "      first_child.append(x)\n",
        "    population_nextgen.append(first_child)\n",
        "  return population_nextgen\n",
        "\n",
        "def double_point_crossover(pop_after_sel):\n",
        "  population_nextgen=pop_after_sel\n",
        "  for i in range(len(pop_after_sel)):\n",
        "      child=pop_after_sel[i]\n",
        "      child[50:100]=pop_after_sel[(i+1)%len(pop_after_sel)][50:100]\n",
        "      population_nextgen.append(child)\n",
        "  return population_nextgen\n",
        "\n",
        "def uniform_crossover(pop_after_sel):\n",
        "  pop_nextgen = pop_after_sel\n",
        "  for i in range(0,len(pop_after_sel)):\n",
        "    parent1 = pop_after_sel[i]\n",
        "    parent2 = pop_after_sel[(i+1)%len(pop_after_sel)]\n",
        "    child = []\n",
        "    for j in range(0,len(parent1)):\n",
        "      val = random.choice([parent1[j],parent2[j]])\n",
        "      child.append(val)\n",
        "    pop_nextgen.append(child)\n",
        "  return pop_nextgen\n"
      ],
      "execution_count": null,
      "outputs": []
    },
    {
      "cell_type": "markdown",
      "metadata": {
        "id": "52mMWQ6M5U93"
      },
      "source": [
        "Mutation Operators"
      ]
    },
    {
      "cell_type": "code",
      "metadata": {
        "id": "T_2rfpGb5XTb"
      },
      "source": [
        "def mutation_flip_bits(pop_after_cross,mutation_rate=0.05):\n",
        "  population_nextgen = []\n",
        "  for i in range(0,len(pop_after_cross)):\n",
        "    chromosome = pop_after_cross[i]\n",
        "    to_be_flipped = np.random.randint(low=0, high=len(pop_after_cross[i]), size=1)[0]\n",
        "    if np.random.random() < mutation_rate:\n",
        "      chromosome[to_be_flipped] = not chromosome[to_be_flipped]\n",
        "    # done = 1\n",
        "    # for j in range(len(chromosome)):\n",
        "    #   if random.random() < mutation_rate and done:\n",
        "    #     chromosome[j]= not chromosome[j]\n",
        "    #     done=0\n",
        "    population_nextgen.append(chromosome)\n",
        "  # print(population_nextgen)\n",
        "  return population_nextgen\n",
        "\n",
        "# generation = [[1, 0, 0, 1], [0, 1, 0, 1], [1, 0, 1, 0, 0, 1, 0]]\n",
        "# mutation_flip_bits(generation)\n",
        "\n",
        "\n",
        "def mutation_bit_swap(offspring_crossover, mutation_rate=0.1):\n",
        "  for idx in range(0,len(offspring_crossover)):\n",
        "    mutation_gene1 = np.random.randint(low=0, high=len(offspring_crossover[idx])/2)\n",
        "    mutation_gene2 = mutation_gene1 + int(len(offspring_crossover[idx])/2)\n",
        "    if np.random.random() < mutation_rate:\n",
        "      temp = offspring_crossover[idx][mutation_gene1]\n",
        "      offspring_crossover[idx][mutation_gene1] = offspring_crossover[idx][mutation_gene2]\n",
        "      offspring_crossover[idx][mutation_gene2] = temp\n",
        "  # print(offspring_crossover)\n",
        "  return offspring_crossover\n",
        "\n",
        "# generation = [[1, 1, 0, 0], [1, 1, 1, 1, 0, 0, 0], [1, 1, 1, 1, 0, 0, 0, 0]]\n",
        "# mutation_bit_swap(generation)\n",
        "  "
      ],
      "execution_count": null,
      "outputs": []
    },
    {
      "cell_type": "markdown",
      "metadata": {
        "id": "noL154fi6G14"
      },
      "source": [
        "Genetic Algorithm :"
      ]
    },
    {
      "cell_type": "code",
      "metadata": {
        "id": "ShyFU0-6BLcc"
      },
      "source": [
        "#defining various steps required for the genetic algorithm\n",
        "def initilization_of_population(size,n_feat):\n",
        "    population = []\n",
        "    for i in range(size):\n",
        "        chromosome = np.ones(n_feat,dtype=np.bool)\n",
        "        chromosome[:int(0.3*n_feat)]=False\n",
        "        np.random.shuffle(chromosome)\n",
        "        population.append(chromosome)\n",
        "    return population\n",
        "\n",
        "def fitness_score(population):\n",
        "    scores = []\n",
        "    for chromosome in population:\n",
        "        classifier1 = RandomForestClassifier(n_estimators=20,random_state=0)\n",
        "        classifier1.fit(X_train.iloc[:,chromosome],y_train.ravel())\n",
        "        predictions = classifier1.predict(X_test.iloc[:,chromosome])\n",
        "        scores.append(accuracy_score(y_test.ravel(),predictions)/sum(chromosome))\n",
        "    scores, population = np.array(scores), np.array(population) \n",
        "    inds = np.argsort(scores)\n",
        "    return list(scores[inds][::-1]), list(population[inds,:][::-1])\n",
        "\n",
        "def selection(pop_after_fit,n_parents):\n",
        "    population_nextgen = []\n",
        "    for i in range(n_parents):\n",
        "        population_nextgen.append(pop_after_fit[i])\n",
        "    return population_nextgen\n",
        "\n",
        "def crossover(pop_after_sel):\n",
        "    population_nextgen=pop_after_sel\n",
        "    for i in range(len(pop_after_sel)):\n",
        "        child=pop_after_sel[i]\n",
        "        child[3:7]=pop_after_sel[(i+1)%len(pop_after_sel)][3:7]\n",
        "        population_nextgen.append(child)\n",
        "    return population_nextgen\n",
        "\n",
        "def mutation(pop_after_cross,mutation_rate):\n",
        "    population_nextgen = []\n",
        "    for i in range(0,len(pop_after_cross)):\n",
        "        chromosome = pop_after_cross[i]\n",
        "        for j in range(len(chromosome)):\n",
        "            if random.random() < mutation_rate:\n",
        "                chromosome[j]= not chromosome[j]\n",
        "        population_nextgen.append(chromosome)\n",
        "    #print(population_nextgen)\n",
        "    return population_nextgen\n",
        "\n",
        "def generations(size,n_feat,n_parents,mutation_rate,n_gen,X_train,\n",
        "                                   X_test, y_train, y_test):\n",
        "    best_chromo= []\n",
        "    best_score= []\n",
        "    population_nextgen=initilization_of_population(size,n_feat)\n",
        "    for i in range(n_gen):\n",
        "        scores, pop_after_fit = fitness_score(population_nextgen)\n",
        "        print(\"Generation \" + str(i) + ': ' + str(sum(scores[:10])/10))\n",
        "        pop_after_sel = tournament_selection(pop_after_fit,n_parents,scores)\n",
        "        pop_after_cross = single_point_crossover(pop_after_sel)\n",
        "        population_nextgen = mutation_bit_swap(pop_after_cross,mutation_rate)\n",
        "        best_chromo.append(pop_after_fit[0])\n",
        "        best_score.append(scores[0])\n",
        "    return best_chromo,best_score"
      ],
      "execution_count": null,
      "outputs": []
    },
    {
      "cell_type": "markdown",
      "metadata": {
        "id": "ONp8iwTSBcNJ"
      },
      "source": [
        "# Applying Genetic Algorithms for Feature Selection"
      ]
    },
    {
      "cell_type": "code",
      "metadata": {
        "id": "56nkUyLQBb3z",
        "outputId": "d179412a-cde5-4316-9497-97a9bbb547bf",
        "colab": {
          "base_uri": "https://localhost:8080/"
        }
      },
      "source": [
        "import time\n",
        "start = time.time()\n",
        "import numpy as np\n",
        "import random\n",
        " \n",
        "chromo,score=generations(size=100,n_feat=711,n_parents=100,mutation_rate=0.10,\n",
        "                     n_gen=5,X_train=X_train,X_test=X_test,y_train=y_train,y_test=y_test)\n",
        "\n",
        "print('Done')\n",
        "#print('Selected Features : ' + str(chromo[-1]))\n",
        "classifier.fit(X_train.iloc[:,chromo[-1]],y_train)\n",
        "predictions = classifier.predict(X_test.iloc[:,chromo[-1]])\n",
        "print(\"Accuracy score after genetic algorithm is= \"+str(accuracy_score(y_test,predictions)))\n",
        "end = time.time()\n",
        "time_taken = end-start\n",
        "print('Time taken : '+str(time_taken))"
      ],
      "execution_count": null,
      "outputs": [
        {
          "output_type": "stream",
          "text": [
            "Generation 0: 0.0019354011791848243\n",
            "Generation 1: 0.0019580965704149517\n",
            "Generation 2: 0.0019852315177207045\n",
            "Generation 3: 0.0019998485957990917\n",
            "Generation 4: 0.002020310363768193\n",
            "Done\n",
            "Accuracy score after genetic algorithm is= 0.9627659574468085\n",
            "Time taken : 293.2268011569977\n"
          ],
          "name": "stdout"
        }
      ]
    },
    {
      "cell_type": "markdown",
      "metadata": {
        "id": "-M1WjltniBS3"
      },
      "source": [
        "Displaying the optimal solution"
      ]
    },
    {
      "cell_type": "code",
      "metadata": {
        "id": "dp82BasBhsZ6",
        "outputId": "a37b5aad-6613-4b4d-f391-5866278e37de",
        "colab": {
          "base_uri": "https://localhost:8080/"
        }
      },
      "source": [
        "df = pd.read_csv('reps-final.csv')\n",
        "header_list = df.columns\n",
        "sol = chromo[-1]\n",
        "ans = []\n",
        "for i in range(0,len(sol)):\n",
        "  if sol[i] == True:\n",
        "    ans.append(header_list[i])\n",
        "print(ans)\n",
        "print(len(ans))\n"
      ],
      "execution_count": null,
      "outputs": [
        {
          "output_type": "stream",
          "text": [
            "[' confidence', ' gaze_0_y', ' gaze_0_z', ' gaze_1_x', ' gaze_1_y', ' gaze_angle_x', ' gaze_angle_y', ' eye_lmk_x_0', ' eye_lmk_x_1', ' eye_lmk_x_2', ' eye_lmk_x_4', ' eye_lmk_x_5', ' eye_lmk_x_6', ' eye_lmk_x_9', ' eye_lmk_x_11', ' eye_lmk_x_12', ' eye_lmk_x_13', ' eye_lmk_x_14', ' eye_lmk_x_15', ' eye_lmk_x_16', ' eye_lmk_x_19', ' eye_lmk_x_20', ' eye_lmk_x_21', ' eye_lmk_x_22', ' eye_lmk_x_23', ' eye_lmk_x_24', ' eye_lmk_x_28', ' eye_lmk_x_29', ' eye_lmk_x_30', ' eye_lmk_x_31', ' eye_lmk_x_32', ' eye_lmk_x_34', ' eye_lmk_x_36', ' eye_lmk_x_37', ' eye_lmk_x_38', ' eye_lmk_x_39', ' eye_lmk_x_40', ' eye_lmk_x_41', ' eye_lmk_x_44', ' eye_lmk_x_45', ' eye_lmk_x_46', ' eye_lmk_x_47', ' eye_lmk_x_49', ' eye_lmk_x_51', ' eye_lmk_x_52', ' eye_lmk_x_53', ' eye_lmk_x_54', ' eye_lmk_y_0', ' eye_lmk_y_1', ' eye_lmk_y_4', ' eye_lmk_y_5', ' eye_lmk_y_6', ' eye_lmk_y_7', ' eye_lmk_y_8', ' eye_lmk_y_11', ' eye_lmk_y_12', ' eye_lmk_y_13', ' eye_lmk_y_14', ' eye_lmk_y_15', ' eye_lmk_y_16', ' eye_lmk_y_17', ' eye_lmk_y_20', ' eye_lmk_y_21', ' eye_lmk_y_22', ' eye_lmk_y_26', ' eye_lmk_y_27', ' eye_lmk_y_28', ' eye_lmk_y_29', ' eye_lmk_y_30', ' eye_lmk_y_31', ' eye_lmk_y_32', ' eye_lmk_y_35', ' eye_lmk_y_37', ' eye_lmk_y_39', ' eye_lmk_y_41', ' eye_lmk_y_42', ' eye_lmk_y_44', ' eye_lmk_y_48', ' eye_lmk_y_49', ' eye_lmk_y_50', ' eye_lmk_y_51', ' eye_lmk_y_52', ' eye_lmk_y_53', ' eye_lmk_y_55', ' eye_lmk_X_2', ' eye_lmk_X_8', ' eye_lmk_X_9', ' eye_lmk_X_10', ' eye_lmk_X_11', ' eye_lmk_X_13', ' eye_lmk_X_15', ' eye_lmk_X_16', ' eye_lmk_X_17', ' eye_lmk_X_18', ' eye_lmk_X_19', ' eye_lmk_X_20', ' eye_lmk_X_24', ' eye_lmk_X_25', ' eye_lmk_X_27', ' eye_lmk_X_29', ' eye_lmk_X_30', ' eye_lmk_X_32', ' eye_lmk_X_34', ' eye_lmk_X_35', ' eye_lmk_X_37', ' eye_lmk_X_38', ' eye_lmk_X_39', ' eye_lmk_X_41', ' eye_lmk_X_42', ' eye_lmk_X_45', ' eye_lmk_X_46', ' eye_lmk_X_49', ' eye_lmk_X_50', ' eye_lmk_X_51', ' eye_lmk_X_52', ' eye_lmk_X_53', ' eye_lmk_X_54', ' eye_lmk_X_55', ' eye_lmk_Y_0', ' eye_lmk_Y_1', ' eye_lmk_Y_2', ' eye_lmk_Y_7', ' eye_lmk_Y_8', ' eye_lmk_Y_10', ' eye_lmk_Y_11', ' eye_lmk_Y_12', ' eye_lmk_Y_15', ' eye_lmk_Y_16', ' eye_lmk_Y_17', ' eye_lmk_Y_18', ' eye_lmk_Y_19', ' eye_lmk_Y_21', ' eye_lmk_Y_22', ' eye_lmk_Y_25', ' eye_lmk_Y_26', ' eye_lmk_Y_27', ' eye_lmk_Y_28', ' eye_lmk_Y_29', ' eye_lmk_Y_32', ' eye_lmk_Y_33', ' eye_lmk_Y_34', ' eye_lmk_Y_36', ' eye_lmk_Y_37', ' eye_lmk_Y_38', ' eye_lmk_Y_39', ' eye_lmk_Y_41', ' eye_lmk_Y_45', ' eye_lmk_Y_46', ' eye_lmk_Y_48', ' eye_lmk_Y_51', ' eye_lmk_Y_53', ' eye_lmk_Y_54', ' eye_lmk_Y_55', ' eye_lmk_Z_0', ' eye_lmk_Z_1', ' eye_lmk_Z_7', ' eye_lmk_Z_8', ' eye_lmk_Z_9', ' eye_lmk_Z_10', ' eye_lmk_Z_11', ' eye_lmk_Z_12', ' eye_lmk_Z_13', ' eye_lmk_Z_14', ' eye_lmk_Z_16', ' eye_lmk_Z_17', ' eye_lmk_Z_20', ' eye_lmk_Z_21', ' eye_lmk_Z_22', ' eye_lmk_Z_23', ' eye_lmk_Z_27', ' eye_lmk_Z_28', ' eye_lmk_Z_30', ' eye_lmk_Z_32', ' eye_lmk_Z_33', ' eye_lmk_Z_34', ' eye_lmk_Z_36', ' eye_lmk_Z_37', ' eye_lmk_Z_38', ' eye_lmk_Z_40', ' eye_lmk_Z_42', ' eye_lmk_Z_43', ' eye_lmk_Z_44', ' eye_lmk_Z_47', ' eye_lmk_Z_48', ' eye_lmk_Z_50', ' eye_lmk_Z_51', ' eye_lmk_Z_53', ' eye_lmk_Z_55', ' pose_Tx', ' pose_Ty', ' pose_Tz', ' pose_Rx', ' pose_Ry', ' pose_Rz', ' x_2', ' x_3', ' x_4', ' x_5', ' x_6', ' x_10', ' x_11', ' x_12', ' x_13', ' x_14', ' x_15', ' x_16', ' x_18', ' x_19', ' x_25', ' x_27', ' x_28', ' x_29', ' x_31', ' x_32', ' x_34', ' x_35', ' x_36', ' x_37', ' x_38', ' x_39', ' x_40', ' x_41', ' x_42', ' x_43', ' x_44', ' x_45', ' x_48', ' x_49', ' x_50', ' x_52', ' x_53', ' x_54', ' x_56', ' x_58', ' x_60', ' x_62', ' x_63', ' x_64', ' x_65', ' x_67', ' y_1', ' y_2', ' y_3', ' y_4', ' y_6', ' y_7', ' y_8', ' y_10', ' y_11', ' y_12', ' y_13', ' y_14', ' y_17', ' y_18', ' y_20', ' y_25', ' y_26', ' y_28', ' y_29', ' y_30', ' y_32', ' y_35', ' y_36', ' y_37', ' y_38', ' y_39', ' y_40', ' y_41', ' y_42', ' y_43', ' y_44', ' y_45', ' y_46', ' y_47', ' y_49', ' y_50', ' y_51', ' y_52', ' y_54', ' y_55', ' y_56', ' y_57', ' y_58', ' y_60', ' y_61', ' y_63', ' y_65', ' y_67', ' X_0', ' X_1', ' X_3', ' X_4', ' X_6', ' X_8', ' X_9', ' X_10', ' X_11', ' X_12', ' X_13', ' X_14', ' X_15', ' X_16', ' X_17', ' X_18', ' X_19', ' X_20', ' X_24', ' X_25', ' X_26', ' X_27', ' X_28', ' X_29', ' X_32', ' X_33', ' X_34', ' X_35', ' X_36', ' X_38', ' X_40', ' X_41', ' X_42', ' X_43', ' X_47', ' X_48', ' X_50', ' X_52', ' X_53', ' X_54', ' X_56', ' X_57', ' X_58', ' X_59', ' X_60', ' X_64', ' X_67', ' Y_1', ' Y_3', ' Y_4', ' Y_6', ' Y_7', ' Y_8', ' Y_9', ' Y_10', ' Y_11', ' Y_12', ' Y_13', ' Y_14', ' Y_15', ' Y_16', ' Y_17', ' Y_18', ' Y_19', ' Y_21', ' Y_22', ' Y_23', ' Y_24', ' Y_25', ' Y_26', ' Y_28', ' Y_29', ' Y_30', ' Y_31', ' Y_33', ' Y_34', ' Y_37', ' Y_38', ' Y_39', ' Y_41', ' Y_42', ' Y_43', ' Y_45', ' Y_46', ' Y_47', ' Y_49', ' Y_52', ' Y_53', ' Y_55', ' Y_56', ' Y_57', ' Y_58', ' Y_59', ' Y_61', ' Y_64', ' Y_65', ' Y_67', ' Z_1', ' Z_2', ' Z_3', ' Z_4', ' Z_5', ' Z_6', ' Z_8', ' Z_11', ' Z_13', ' Z_14', ' Z_17', ' Z_22', ' Z_24', ' Z_26', ' Z_27', ' Z_28', ' Z_29', ' Z_30', ' Z_34', ' Z_35', ' Z_36', ' Z_38', ' Z_39', ' Z_40', ' Z_41', ' Z_42', ' Z_43', ' Z_44', ' Z_46', ' Z_49', ' Z_51', ' Z_52', ' Z_58', ' Z_60', ' Z_61', ' Z_62', ' Z_64', ' Z_65', ' Z_66', ' Z_67', ' p_rx', ' p_rz', ' p_0', ' p_1', ' p_2', ' p_3', ' p_4', ' p_6', ' p_7', ' p_9', ' p_12', ' p_13', ' p_14', ' p_15', ' p_16', ' p_17', ' p_18', ' p_19', ' p_23', ' p_24', ' p_26', ' p_27', ' p_31', ' p_32', ' p_33', ' AU02_r', ' AU04_r', ' AU05_r', ' AU06_r', ' AU07_r', ' AU09_r', ' AU10_r', ' AU12_r', ' AU14_r', ' AU20_r', ' AU23_r', ' AU25_r', ' AU26_r', ' AU45_r', ' AU01_c', ' AU02_c', ' AU04_c', ' AU05_c', ' AU06_c', ' AU09_c', ' AU10_c', ' AU12_c', ' AU14_c', ' AU17_c', ' AU20_c', ' AU23_c', ' AU25_c', ' AU26_c', ' AU28_c']\n",
            "479\n"
          ],
          "name": "stdout"
        }
      ]
    },
    {
      "cell_type": "code",
      "metadata": {
        "id": "NxykCKUJx69R",
        "outputId": "cf439ae0-1653-4d45-a6e3-c7e744d1da70",
        "colab": {
          "base_uri": "https://localhost:8080/"
        }
      },
      "source": [
        "arr = [True,False]\n",
        "print(sum(arr))"
      ],
      "execution_count": null,
      "outputs": [
        {
          "output_type": "stream",
          "text": [
            "1\n"
          ],
          "name": "stdout"
        }
      ]
    },
    {
      "cell_type": "code",
      "metadata": {
        "id": "jxmRsjJcx-qX"
      },
      "source": [
        ""
      ],
      "execution_count": null,
      "outputs": []
    }
  ]
}